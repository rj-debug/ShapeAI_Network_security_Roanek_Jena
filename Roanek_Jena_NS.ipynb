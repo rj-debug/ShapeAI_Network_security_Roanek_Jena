{
  "nbformat": 4,
  "nbformat_minor": 0,
  "metadata": {
    "colab": {
      "name": "Roanek_Jena_NS.ipynb",
      "provenance": []
    },
    "kernelspec": {
      "name": "python3",
      "display_name": "Python 3"
    },
    "language_info": {
      "name": "python"
    }
  },
  "cells": [
    {
      "cell_type": "code",
      "metadata": {
        "id": "0fJqwZ48UhQA"
      },
      "source": [
        "import hashlib\n",
        "r=input('input data:')\n",
        "result = hashlib.md5(r.encode())\n",
        "\n",
        "print(\"The byte equivalent of hash is : \", end =\"\")\n",
        "print(result.digest())\n"
      ],
      "execution_count": null,
      "outputs": []
    },
    {
      "cell_type": "code",
      "metadata": {
        "id": "-lWEwskPcY5C"
      },
      "source": [
        "print(hashlib.algorithms_available)"
      ],
      "execution_count": null,
      "outputs": []
    },
    {
      "cell_type": "code",
      "metadata": {
        "id": "QCoO4zPYdJ6_"
      },
      "source": [
        "import hashlib\n",
        "s=input('input data:')\n",
        "result = hashlib.sha256(s.encode())\n",
        "print(\"sha_256 : \", end =\"\")\n",
        "print(result.digest())\n",
        "\n",
        "\n",
        "result = hashlib.sha3_256(t.encode())\n",
        "print(\"sha3_256 : \", end =\"\")\n",
        "print(result.digest())\n",
        "\n",
        "\n",
        "result = hashlib.blake2s(u.encode())\n",
        "print(\"blake2s : \", end =\"\")\n",
        "print(result.digest())"
      ],
      "execution_count": null,
      "outputs": []
    },
    {
      "cell_type": "code",
      "metadata": {
        "id": "-Z-9KakOhssp"
      },
      "source": [
        "import hashlib, binascii\n",
        "import hashlib\n",
        "s=input('input data:')\n",
        "result = hashlib.sha256(s.encode())\n",
        "print(\"sha_256 : \", end =\"\")\n",
        "print(result.digest())\n",
        "dk = hashlib.pbkdf2_hmac('sha256', b'password', b'salt',100000)\n",
        "print(result.digest() + binascii.hexlify(dk))"
      ],
      "execution_count": null,
      "outputs": []
    }
  ]
}